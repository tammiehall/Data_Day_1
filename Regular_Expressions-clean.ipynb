{
 "cells": [
  {
   "cell_type": "markdown",
   "metadata": {
    "id": "09G0-vjfqv-_"
   },
   "source": [
    "Click <a href='https://www.dataquest.io/blog/web-scraping-tutorial-python/'>here</a> to learn about Regular Expressions (RegEx) using Python."
   ]
  },
  {
   "cell_type": "code",
   "execution_count": null,
   "metadata": {
    "id": "XnNKbcLdqv_M"
   },
   "outputs": [],
   "source": [
    "########################\n",
    "# DO NOT RUN THIS CELL #\n",
    "########################\n",
    "\n",
    "a, X, 9, < -- ordinary characters just match themselves exactly.\n",
    ". (a period) -- matches any single character except newline '\\n'\n",
    "\\w -- matches a \"word\" character: a letter or digit or underbar [a-zA-Z0-9_].\n",
    "\\W -- matches any non-word character.\n",
    "\\b -- matches word boundary (in between a word character and a non word character)\n",
    "\\s -- matches a single whitespace character -- space, newline, return, tab\n",
    "\\S -- matches any non-whitespace character.\n",
    "\\t, \\n, \\r -- tab, newline, return\n",
    "\\d -- matches any numeric digit [0-9]\n",
    "\\D matches any non-numeric character.\n",
    "^ -- matches the beginning of the string, or specify omition of certain characters\n",
    "$ -- matches the end of the string\n",
    "\\ -- escapes special character.\n",
    "(x|y|z) matches exactly one of x, y or z.\n",
    "(x) in general is a remembered group. We can get the value of what matched by using the groups() method of the object returned by re.search.\n",
    "x? matches an optional x character (in other words, it matches an x zero or one times).\n",
    "x* matches x zero or more times.\n",
    "x+ matches x one or more times.\n",
    "x{m,n} matches an x character at least m times, but not more than n times.\n",
    "?: matches an expression but do not capture it. Non capturing group.\n",
    "?= matches a suffix but exclude it from capture. Positive lookahead.\n",
    "a(?=b) will match the \"a\" in \"ab\", but not the \"a\" in \"ac\"\n",
    "In other words, a(?=b) matches the \"a\" which is followed by the string 'b', without consuming what follows the a.\n",
    "?! matches if suffix is absent. Negative look ahead.\n",
    "a(?!b) will match the \"a\" in \"ac\", but not the \"a\" in \"ab\"\n",
    "?<= positive look behind\n",
    "[] matches for groupings of consecutive characters\n",
    "?<! negative look behind\n",
    "\n",
    "########################\n",
    "# DO NOT RUN THIS CELL #\n",
    "########################"
   ]
  },
  {
   "cell_type": "markdown",
   "metadata": {
    "id": "aQbvpMJKqv_O"
   },
   "source": [
    "What are word boundaries?\n",
    "--------------------------------------------------\n",
    "Before the first character in the string, if the first character is a word character.<br>\n",
    "After the last character in the string, if the last character is a word character.<br>\n",
    "Between two characters in the string, where one is a word character and the other is not a word character<br>"
   ]
  },
  {
   "cell_type": "code",
   "execution_count": 2,
   "metadata": {},
   "outputs": [],
   "source": [
    "import re\n",
    "\n",
    "# open a .txt file using python\n",
    "file = open('./names.txt', encoding='utf-8')\n",
    "\n",
    "# read the data from the txt file\n",
    "data = file.read()\n",
    "\n",
    "# ALWAYS close your data streams to any files. Memory leakage and whatnot\n",
    "file.close()"
   ]
  },
  {
   "cell_type": "code",
   "execution_count": null,
   "metadata": {
    "id": "8l7ImT9Mqv_Y"
   },
   "outputs": [],
   "source": [
    "# find(4, data) => <re.Match object; span=(XX, XX), match='5555'>"
   ]
  },
  {
   "cell_type": "code",
   "execution_count": 3,
   "metadata": {
    "id": "rbSqTUSSqv_Y",
    "scrolled": true
   },
   "outputs": [
    {
     "data": {
      "text/plain": [
       "<re.Match object; span=(0, 7), match='Hawkins'>"
      ]
     },
     "execution_count": 3,
     "metadata": {},
     "output_type": "execute_result"
    }
   ],
   "source": [
    "# .match() - Check for a specific string from the beginning of the string\n",
    "re.match(r'Hawkins', data)"
   ]
  },
  {
   "cell_type": "code",
   "execution_count": 4,
   "metadata": {
    "id": "y2j-5IYrqv_Y"
   },
   "outputs": [],
   "source": [
    "re.match(r'Time Lord', data)"
   ]
  },
  {
   "cell_type": "code",
   "execution_count": 5,
   "metadata": {
    "scrolled": true
   },
   "outputs": [
    {
     "data": {
      "text/plain": [
       "<re.Match object; span=(480, 489), match='Time Lord'>"
      ]
     },
     "execution_count": 5,
     "metadata": {},
     "output_type": "execute_result"
    }
   ],
   "source": [
    "# .search() - Looks for the first matching string in a string of text\n",
    "re.search(r'Time Lord', data)\\d\\d"
   ]
  },
  {
   "cell_type": "code",
   "execution_count": 7,
   "metadata": {},
   "outputs": [
    {
     "data": {
      "text/plain": [
       "<re.Match object; span=(169, 176), match='Johnson'>"
      ]
     },
     "execution_count": 7,
     "metadata": {},
     "output_type": "execute_result"
    }
   ],
   "source": [
    "re.search('Johnson', data)"
   ]
  },
  {
   "cell_type": "code",
   "execution_count": 8,
   "metadata": {
    "scrolled": true
   },
   "outputs": [
    {
     "data": {
      "text/plain": [
       "<re.Match object; span=(6, 10), match='s, D'>"
      ]
     },
     "execution_count": 8,
     "metadata": {},
     "output_type": "execute_result"
    }
   ],
   "source": [
    "re.search(r'\\w, \\w', data)"
   ]
  },
  {
   "cell_type": "code",
   "execution_count": 9,
   "metadata": {},
   "outputs": [
    {
     "data": {
      "text/plain": [
       "<re.Match object; span=(0, 14), match='Hawkins, Derek'>"
      ]
     },
     "execution_count": 9,
     "metadata": {},
     "output_type": "execute_result"
    }
   ],
   "source": [
    "re.search(r'\\w\\w\\w\\w\\w\\w\\w, \\w\\w\\w\\w\\w', data)"
   ]
  },
  {
   "cell_type": "code",
   "execution_count": 10,
   "metadata": {},
   "outputs": [
    {
     "data": {
      "text/plain": [
       "<re.Match object; span=(0, 14), match='Hawkins, Derek'>"
      ]
     },
     "execution_count": 10,
     "metadata": {},
     "output_type": "execute_result"
    }
   ],
   "source": [
    "re.search(r'\\w{7}, \\w{5}', data)"
   ]
  },
  {
   "cell_type": "code",
   "execution_count": 12,
   "metadata": {},
   "outputs": [
    {
     "data": {
      "text/plain": [
       "<re.Match object; span=(38, 52), match='(555) 555-5555'>"
      ]
     },
     "execution_count": 12,
     "metadata": {},
     "output_type": "execute_result"
    }
   ],
   "source": [
    "re.search(r'\\(\\d\\d\\d\\) \\d\\d\\d-\\d\\d\\d\\d', data)"
   ]
  },
  {
   "cell_type": "markdown",
   "metadata": {
    "id": "_jhz8AUKqv_X"
   },
   "source": [
    "<strong>Exercise 1</strong>:<br>\n",
    "Write a function that checks for n number of consecutive digits and returns the match"
   ]
  },
  {
   "cell_type": "code",
   "execution_count": 13,
   "metadata": {},
   "outputs": [
    {
     "data": {
      "text/plain": [
       "'aaaaaaaaaaaaaaaaaaaaaaaaaaaaaaaaaaaaaaaaaaaaaaaaaaaaaaaaaaaaaaaaaaa'"
      ]
     },
     "execution_count": 13,
     "metadata": {},
     "output_type": "execute_result"
    }
   ],
   "source": [
    "\"a\" * 67"
   ]
  },
  {
   "cell_type": "code",
   "execution_count": 15,
   "metadata": {},
   "outputs": [
    {
     "data": {
      "text/plain": [
       "<re.Match object; span=(39, 42), match='555'>"
      ]
     },
     "execution_count": 15,
     "metadata": {},
     "output_type": "execute_result"
    }
   ],
   "source": [
    "def find_digits(n, searchable_text):\n",
    "    return re.search(r'\\d'*n, searchable_text)\n",
    "\n",
    "find_digits(3, data)"
   ]
  },
  {
   "cell_type": "code",
   "execution_count": 17,
   "metadata": {
    "id": "W7nx1V4lqv_Z",
    "scrolled": true
   },
   "outputs": [],
   "source": [
    "# .findall() - Looks for matching string anywhere in the searchable text string and stores each instance into a list\n",
    "phone_numbers = \"(555) 555-5555 555-555-5555 555 555-5555\""
   ]
  },
  {
   "cell_type": "code",
   "execution_count": 19,
   "metadata": {
    "id": "dxvMzhYoqv_Z"
   },
   "outputs": [
    {
     "data": {
      "text/plain": [
       "['(555) 555-5555']"
      ]
     },
     "execution_count": 19,
     "metadata": {},
     "output_type": "execute_result"
    }
   ],
   "source": [
    "# find numbers with parans\n",
    "re.findall(r'\\(\\d{3}\\) \\d{3}-\\d{4}', phone_numbers)"
   ]
  },
  {
   "cell_type": "code",
   "execution_count": 20,
   "metadata": {
    "id": "-_R3XAAoqv_Z"
   },
   "outputs": [
    {
     "data": {
      "text/plain": [
       "['(555) 555-5555', '555 555-5555']"
      ]
     },
     "execution_count": 20,
     "metadata": {},
     "output_type": "execute_result"
    }
   ],
   "source": [
    "# also find numbers with/without parens\n",
    "re.findall(r'\\(?\\d{3}\\)? \\d{3}-\\d{4}', phone_numbers)"
   ]
  },
  {
   "cell_type": "code",
   "execution_count": 22,
   "metadata": {
    "id": "K8MrS5T7qv_a",
    "scrolled": true
   },
   "outputs": [
    {
     "data": {
      "text/plain": [
       "['(555) 555-5555', '555-555-5555', '555 555-5555']"
      ]
     },
     "execution_count": 22,
     "metadata": {},
     "output_type": "execute_result"
    }
   ],
   "source": [
    "# also find numbers without parens, with hyphens\n",
    "re.findall(r'\\(?\\d{3}\\)?\\s?-?\\d{3}-\\d{4}', phone_numbers)"
   ]
  },
  {
   "cell_type": "code",
   "execution_count": 23,
   "metadata": {
    "scrolled": true
   },
   "outputs": [
    {
     "data": {
      "text/plain": [
       "['Hawkins, Derek',\n",
       " 'Teacher, Coding',\n",
       " 'Milliken, Connor',\n",
       " 'Teacher, Coding',\n",
       " 'Johnson, Joe',\n",
       " 'Carter, Joel',\n",
       " 'Österberg, Sven',\n",
       " 'Governor, Norrbotten',\n",
       " 'Enchanter, Killer',\n",
       " 'Butz, Ryan',\n",
       " 'CEO, Coding',\n",
       " 'Doctor, The',\n",
       " 'Lord, Gallifrey',\n",
       " 'Exampleson, Example',\n",
       " 'Example, Example',\n",
       " 'Obama, Barack',\n",
       " 'President, United',\n",
       " 'Patel, Ripal',\n",
       " 'Teacher, Coding',\n",
       " 'Vader, Darth',\n",
       " 'Lord, Galactic',\n",
       " 'Sanz, María',\n",
       " 'Minister, Spanish']"
      ]
     },
     "execution_count": 23,
     "metadata": {},
     "output_type": "execute_result"
    }
   ],
   "source": [
    "# Search for names\n",
    "re.findall(r'\\w+, \\w+', data)"
   ]
  },
  {
   "cell_type": "code",
   "execution_count": 24,
   "metadata": {},
   "outputs": [
    {
     "data": {
      "text/plain": [
       "['derek@codingtemple.com',\n",
       " 'connor@codingtemple.com',\n",
       " 'joejohnson@codingtemple.com',\n",
       " 'governor@norrbotten.co.se',\n",
       " 'tim@killerrabbit.com',\n",
       " 'ryanb@codingtemple.com',\n",
       " 'doctor+companion@tardis.co.uk',\n",
       " 'me@example.com',\n",
       " 'president.44@us.gov',\n",
       " 'ripalp@codingtemple.com',\n",
       " 'vader@empire.gov',\n",
       " 'mtfvs@spain.gov']"
      ]
     },
     "execution_count": 24,
     "metadata": {},
     "output_type": "execute_result"
    }
   ],
   "source": [
    "# Search for emails\n",
    "re.findall(r'[\\d\\w\\'-+.]+@[-.\\w\\d]+', data)"
   ]
  },
  {
   "cell_type": "code",
   "execution_count": 26,
   "metadata": {
    "id": "QKvYNCRQqv_c"
   },
   "outputs": [
    {
     "data": {
      "text/plain": [
       "'\\nPatel, Ripal: ripalp@codingtemple.com : 555 555-5555\\nCarter, Joel: joelc@codingtemple.com : (555) 555-5555\\nButz, Ryan: ryanb@codingtemple.gov : (555) 555-5555\\nStanton, Brain: brians@codingtemple.com : 555-555-5555\\nDavitt, Sam: samd@codingtemple.com : (555) 555-5555\\n'"
      ]
     },
     "execution_count": 26,
     "metadata": {},
     "output_type": "execute_result"
    }
   ],
   "source": [
    "# re.VERBOSE/re.X - Allows multiline regular expressions\n",
    "# re.IGNORECASE/re.I - Ignores casing\n",
    "\n",
    "information = \"\"\"\n",
    "Patel, Ripal: ripalp@codingtemple.com : 555 555-5555\n",
    "Carter, Joel: joelc@codingtemple.com : (555) 555-5555\n",
    "Butz, Ryan: ryanb@codingtemple.gov : (555) 555-5555\n",
    "Stanton, Brain: brians@codingtemple.com : 555-555-5555\n",
    "Davitt, Sam: samd@codingtemple.com : (555) 555-5555\n",
    "\"\"\"\n",
    "\n",
    "information"
   ]
  },
  {
   "cell_type": "code",
   "execution_count": 28,
   "metadata": {},
   "outputs": [
    {
     "data": {
      "text/plain": [
       "['@codingtemple.com',\n",
       " '@codingtemple.com',\n",
       " '@codingtemple.gov',\n",
       " '@codingtemple.com',\n",
       " '@codingtemple.com']"
      ]
     },
     "execution_count": 28,
     "metadata": {},
     "output_type": "execute_result"
    }
   ],
   "source": [
    "re.findall(r'''\n",
    "    @[-.\\w\\d]+ # @symbol, one or more number/digit characters\n",
    "''', information, re.X|re.I)"
   ]
  },
  {
   "cell_type": "code",
   "execution_count": 38,
   "metadata": {
    "scrolled": true
   },
   "outputs": [
    {
     "data": {
      "text/plain": [
       "[('Patel, Ripal', ': ripalp@codingtemple.com', ' : 555 555-5555'),\n",
       " ('Carter, Joel', ': joelc@codingtemple.com', ' : (555) 555-5555'),\n",
       " ('Butz, Ryan', ': ryanb@codingtemple.gov', ' : (555) 555-5555'),\n",
       " ('Stanton, Brain', ': brians@codingtemple.com', ' : 555-555-5555'),\n",
       " ('Davitt, Sam', ': samd@codingtemple.com', ' : (555) 555-5555')]"
      ]
     },
     "execution_count": 38,
     "metadata": {},
     "output_type": "execute_result"
    }
   ],
   "source": [
    "info = re.findall(r'''\n",
    "   ([\\w]+,\\s[\\w]+)                    # last, first name\n",
    "   (:\\s[\\d\\w\\'-+.]+@[-.\\w\\d]+)        # email\n",
    "   (\\s:\\s\\(?\\d{3}\\)?\\s?-?\\d{3}-\\d{4}) # phone\n",
    "''', information, re.X)\n",
    "\n",
    "info"
   ]
  },
  {
   "cell_type": "code",
   "execution_count": 41,
   "metadata": {
    "scrolled": true
   },
   "outputs": [
    {
     "data": {
      "text/plain": [
       "[{'name': 'Patel, Ripal',\n",
       "  'email': 'ripalp@codingtemple.com',\n",
       "  'phone': '555 555-5555'},\n",
       " {'name': 'Carter, Joel',\n",
       "  'email': 'joelc@codingtemple.com',\n",
       "  'phone': '(555) 555-5555'},\n",
       " {'name': 'Butz, Ryan',\n",
       "  'email': 'ryanb@codingtemple.gov',\n",
       "  'phone': '(555) 555-5555'},\n",
       " {'name': 'Stanton, Brain',\n",
       "  'email': 'brians@codingtemple.com',\n",
       "  'phone': '555-555-5555'},\n",
       " {'name': 'Davitt, Sam',\n",
       "  'email': 'samd@codingtemple.com',\n",
       "  'phone': '(555) 555-5555'}]"
      ]
     },
     "execution_count": 41,
     "metadata": {},
     "output_type": "execute_result"
    }
   ],
   "source": [
    "info_list = []\n",
    "for tup in info:\n",
    "    obj_data = {\n",
    "        'name': tup[0],\n",
    "        'email': tup[1][2:],\n",
    "        'phone': tup[2][3:]\n",
    "    }\n",
    "    info_list.append(obj_data)\n",
    "    \n",
    "info_list"
   ]
  },
  {
   "cell_type": "code",
   "execution_count": 44,
   "metadata": {},
   "outputs": [],
   "source": [
    "compiler = re.compile(r'''\n",
    "    (?P<name>[\\w]+,\\s[\\w]+)                     # last, first name\n",
    "    (?P<email>:\\s[\\d\\w\\'-+.]+@[-.\\w\\d]+)        # email\n",
    "    (?P<phone>\\s:\\s\\(?\\d{3}\\)?\\s?-?\\d{3}-\\d{4}) # phone\n",
    "''', re.X)"
   ]
  },
  {
   "cell_type": "code",
   "execution_count": 53,
   "metadata": {},
   "outputs": [
    {
     "name": "stdout",
     "output_type": "stream",
     "text": [
      "Name: Patel, Ripal\n",
      "Email: ripalp@codingtemple.com\n",
      "Phone: 555 555-5555\n",
      "\n",
      "Name: Carter, Joel\n",
      "Email: joelc@codingtemple.com\n",
      "Phone: (555) 555-5555\n",
      "\n",
      "Name: Butz, Ryan\n",
      "Email: ryanb@codingtemple.gov\n",
      "Phone: (555) 555-5555\n",
      "\n",
      "Name: Stanton, Brain\n",
      "Email: brians@codingtemple.com\n",
      "Phone: 555-555-5555\n",
      "\n",
      "Name: Davitt, Sam\n",
      "Email: samd@codingtemple.com\n",
      "Phone: (555) 555-5555\n",
      "\n"
     ]
    }
   ],
   "source": [
    "for i in compiler.finditer(information):\n",
    "    print(f\"Name: {i.group('name')}\\nEmail: {i.group('email')[2:]}\\nPhone: {i.group('phone')[3:]}\\n\")"
   ]
  },
  {
   "cell_type": "markdown",
   "metadata": {
    "id": "5PaSgzNfqv_j"
   },
   "source": [
    "### Homework Exercise <br>\n",
    "<p>Print each persons name and twitter handle etc., using groups, should look like:</p>"
   ]
  },
  {
   "cell_type": "code",
   "execution_count": 107,
   "metadata": {
    "id": "uCqCIM4wqv_f"
   },
   "outputs": [],
   "source": [
    "# [\n",
    "#     (First and last name,\n",
    "#      email, \n",
    "#      phone,\n",
    "#      title,\n",
    "#      Twitter handle)\n",
    "# ]"
   ]
  },
  {
   "cell_type": "code",
   "execution_count": null,
   "metadata": {
    "id": "7kT3QdAUqv_j"
   },
   "outputs": [],
   "source": []
  }
 ],
 "metadata": {
  "colab": {
   "name": "Regular Expressions.ipynb",
   "provenance": []
  },
  "kernelspec": {
   "display_name": "Python 3",
   "language": "python",
   "name": "python3"
  },
  "language_info": {
   "codemirror_mode": {
    "name": "ipython",
    "version": 3
   },
   "file_extension": ".py",
   "mimetype": "text/x-python",
   "name": "python",
   "nbconvert_exporter": "python",
   "pygments_lexer": "ipython3",
   "version": "3.9.5"
  }
 },
 "nbformat": 4,
 "nbformat_minor": 1
}
