{
 "cells": [
  {
   "cell_type": "code",
   "execution_count": 1,
   "id": "impaired-montgomery",
   "metadata": {},
   "outputs": [],
   "source": [
    "import unicodecsv as csv"
   ]
  },
  {
   "cell_type": "markdown",
   "id": "unlikely-eugene",
   "metadata": {},
   "source": [
    "# Data Analysis Process"
   ]
  },
  {
   "cell_type": "markdown",
   "id": "unauthorized-demographic",
   "metadata": {},
   "source": [
    "### Step 1: Get data"
   ]
  },
  {
   "cell_type": "markdown",
   "id": "nutritional-swift",
   "metadata": {},
   "source": [
    "Categorical Data - Any value that if you ran mathematical operation on, you'd get nonsensical data"
   ]
  },
  {
   "cell_type": "markdown",
   "id": "alternative-stretch",
   "metadata": {},
   "source": [
    "Ordinal Data - Any value that if you ran mathematical operation on it, you'd get sensical data"
   ]
  },
  {
   "cell_type": "code",
   "execution_count": null,
   "id": "f12f6cdf",
   "metadata": {},
   "outputs": [],
   "source": []
  },
  {
   "cell_type": "markdown",
   "id": "amino-violation",
   "metadata": {},
   "source": [
    "### Step 2: Clean Data"
   ]
  },
  {
   "cell_type": "code",
   "execution_count": null,
   "id": "2273fb0f",
   "metadata": {},
   "outputs": [],
   "source": []
  },
  {
   "cell_type": "markdown",
   "id": "first-mileage",
   "metadata": {},
   "source": [
    "### Step 3: Answer Questions with Data"
   ]
  },
  {
   "cell_type": "code",
   "execution_count": 21,
   "id": "251fdb22",
   "metadata": {},
   "outputs": [],
   "source": [
    "# unique_engagements"
   ]
  },
  {
   "cell_type": "code",
   "execution_count": null,
   "id": "ee4ecd76",
   "metadata": {},
   "outputs": [],
   "source": []
  },
  {
   "cell_type": "markdown",
   "id": "joint-kruger",
   "metadata": {},
   "source": [
    "<h4>Find quality accounts in which:</h4>\n",
    "<ol>\n",
    "    <li>The account is currently active i.e. is_canceled is False</li>\n",
    "    <li>days_to_cancel is greater than 7 i.e. the trial period</li>\n",
    "    <li>The latest vald record for each particular VALID user</li>\n",
    "</ol>"
   ]
  },
  {
   "cell_type": "code",
   "execution_count": null,
   "id": "conservative-sperm",
   "metadata": {},
   "outputs": [],
   "source": [
    "# HOMEWORK:\n",
    "\n",
    "# Take a look at data and come up with 3 good questions and use some of the methods done in this \n",
    "# Jupyter Notebook to successfully answer the questions."
   ]
  }
 ],
 "metadata": {
  "kernelspec": {
   "display_name": "Python 3",
   "language": "python",
   "name": "python3"
  },
  "language_info": {
   "codemirror_mode": {
    "name": "ipython",
    "version": 3
   },
   "file_extension": ".py",
   "mimetype": "text/x-python",
   "name": "python",
   "nbconvert_exporter": "python",
   "pygments_lexer": "ipython3",
   "version": "3.8.8"
  }
 },
 "nbformat": 4,
 "nbformat_minor": 5
}
