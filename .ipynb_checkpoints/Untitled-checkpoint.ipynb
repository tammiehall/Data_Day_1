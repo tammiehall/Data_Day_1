{
 "cells": [
  {
   "cell_type": "code",
   "execution_count": 1,
   "id": "51b9cccd",
   "metadata": {},
   "outputs": [],
   "source": [
    "import unicodecsv as csv"
   ]
  },
  {
   "cell_type": "code",
   "execution_count": 11,
   "id": "7fc3fb38",
   "metadata": {},
   "outputs": [],
   "source": [
    "# enrollment_data = []\n",
    "# file = open('./enrollments.csv', 'rb')\n",
    "# data = csv.DictReader(file)\n",
    "# for i in data:\n",
    "#     enrollment_data.append(i)\n",
    "# file.close()\n",
    "\n",
    "# SHORTER WAY\n",
    "# with open('enrollments.csv', 'rb') as file:\n",
    "#     data = csv.DictReader(file)\n",
    "#     enrollment_data = list(data)\n",
    "\n",
    "# DYNAMIC WAY\n",
    "def read_from_csv(filepath):\n",
    "    with open('enrollments.csv', 'rb') as file:\n",
    "        data = csv.DictReader(file)\n",
    "        return list(data)"
   ]
  },
  {
   "cell_type": "code",
   "execution_count": 14,
   "id": "de464636",
   "metadata": {},
   "outputs": [],
   "source": [
    "enrollment_data = read_from_csv('./enrollments.csv')\n",
    "engagement_data = read_from_csv('./engagements.csv')\n",
    "submission_data = read_from_csv('./submissions.csv')"
   ]
  },
  {
   "cell_type": "code",
   "execution_count": 15,
   "id": "a4fed97e",
   "metadata": {},
   "outputs": [
    {
     "data": {
      "text/plain": [
       "{'account_key': '700',\n",
       " 'status': 'canceled',\n",
       " 'join_date': '2017-11-10',\n",
       " 'cancel_date': '2017-11-16',\n",
       " 'days_to_cancel': '6',\n",
       " 'is_enrolled': 'FALSE',\n",
       " 'is_canceled': 'TRUE'}"
      ]
     },
     "execution_count": 15,
     "metadata": {},
     "output_type": "execute_result"
    }
   ],
   "source": [
    "enrollment_data[0]"
   ]
  },
  {
   "cell_type": "code",
   "execution_count": 16,
   "id": "ba4264c1",
   "metadata": {},
   "outputs": [
    {
     "data": {
      "text/plain": [
       "{'account_key': '700',\n",
       " 'status': 'canceled',\n",
       " 'join_date': '2017-11-10',\n",
       " 'cancel_date': '2017-11-16',\n",
       " 'days_to_cancel': '6',\n",
       " 'is_enrolled': 'FALSE',\n",
       " 'is_canceled': 'TRUE'}"
      ]
     },
     "execution_count": 16,
     "metadata": {},
     "output_type": "execute_result"
    }
   ],
   "source": [
    "engagement_data[0]"
   ]
  },
  {
   "cell_type": "code",
   "execution_count": null,
   "id": "c5d04640",
   "metadata": {},
   "outputs": [],
   "source": []
  },
  {
   "cell_type": "code",
   "execution_count": null,
   "id": "dd0c8234",
   "metadata": {},
   "outputs": [],
   "source": []
  },
  {
   "cell_type": "code",
   "execution_count": null,
   "id": "a4bb0dc5",
   "metadata": {},
   "outputs": [],
   "source": []
  },
  {
   "cell_type": "code",
   "execution_count": null,
   "id": "ac88ab6a",
   "metadata": {},
   "outputs": [],
   "source": []
  },
  {
   "cell_type": "code",
   "execution_count": null,
   "id": "03c28aa9",
   "metadata": {},
   "outputs": [],
   "source": []
  },
  {
   "cell_type": "code",
   "execution_count": null,
   "id": "25d453a2",
   "metadata": {},
   "outputs": [],
   "source": []
  }
 ],
 "metadata": {
  "kernelspec": {
   "display_name": "Python 3",
   "language": "python",
   "name": "python3"
  },
  "language_info": {
   "codemirror_mode": {
    "name": "ipython",
    "version": 3
   },
   "file_extension": ".py",
   "mimetype": "text/x-python",
   "name": "python",
   "nbconvert_exporter": "python",
   "pygments_lexer": "ipython3",
   "version": "3.8.8"
  }
 },
 "nbformat": 4,
 "nbformat_minor": 5
}
