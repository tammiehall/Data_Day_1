{
 "cells": [
  {
   "cell_type": "code",
   "execution_count": 1,
   "id": "f794de63",
   "metadata": {},
   "outputs": [],
   "source": [
    "import unicodecsv as csv"
   ]
  },
  {
   "cell_type": "markdown",
   "id": "37cedf42",
   "metadata": {},
   "source": [
    "# Data Analysis Process"
   ]
  },
  {
   "cell_type": "markdown",
   "id": "78097fee",
   "metadata": {},
   "source": [
    "### Step 1: Get data"
   ]
  },
  {
   "cell_type": "code",
   "execution_count": 20,
   "id": "04f2d220",
   "metadata": {},
   "outputs": [],
   "source": [
    "# enrollment_data = []\n",
    "# file = open('./enrollments.csv', 'rb')\n",
    "# data = csv.DictReader(file)\n",
    "# for i in data:\n",
    "#     enrollment_data.append(i)\n",
    "# file.close()\n",
    "\n",
    "# SHORTER WAY\n",
    "# with open('enrollments.csv', 'rb') as file:\n",
    "#     data = csv.DictReader(file)\n",
    "#     enrollment_data = list(data)\n",
    "\n",
    "# DYNAMIC WAY\n",
    "def read_from_csv(filepath):\n",
    "    with open('enrollments.csv', 'rb') as file:\n",
    "        data = csv.DictReader(file)\n",
    "        return list(data)"
   ]
  },
  {
   "cell_type": "code",
   "execution_count": 21,
   "id": "dafe4026",
   "metadata": {},
   "outputs": [],
   "source": [
    "enrollment_data = read_from_csv('./enrollments.csv')\n",
    "engagement_data = read_from_csv('./engagements.csv')\n",
    "submission_data = read_from_csv('./submissions.csv')"
   ]
  },
  {
   "cell_type": "code",
   "execution_count": 22,
   "id": "0681d2bf",
   "metadata": {},
   "outputs": [
    {
     "data": {
      "text/plain": [
       "{'account_key': '700',\n",
       " 'status': 'canceled',\n",
       " 'join_date': '2017-11-10',\n",
       " 'cancel_date': '2017-11-16',\n",
       " 'days_to_cancel': '6',\n",
       " 'is_enrolled': 'FALSE',\n",
       " 'is_canceled': 'TRUE'}"
      ]
     },
     "execution_count": 22,
     "metadata": {},
     "output_type": "execute_result"
    }
   ],
   "source": [
    "enrollment_data[0]"
   ]
  },
  {
   "cell_type": "code",
   "execution_count": 16,
   "id": "92c387d0",
   "metadata": {},
   "outputs": [
    {
     "data": {
      "text/plain": [
       "{'account_key': '700',\n",
       " 'status': 'canceled',\n",
       " 'join_date': '2017-11-10',\n",
       " 'cancel_date': '2017-11-16',\n",
       " 'days_to_cancel': '6',\n",
       " 'is_enrolled': 'FALSE',\n",
       " 'is_canceled': 'TRUE'}"
      ]
     },
     "execution_count": 16,
     "metadata": {},
     "output_type": "execute_result"
    }
   ],
   "source": [
    "engagement_data[0]"
   ]
  },
  {
   "cell_type": "code",
   "execution_count": 23,
   "id": "48c4ecc7",
   "metadata": {},
   "outputs": [
    {
     "data": {
      "text/plain": [
       "{'account_key': '700',\n",
       " 'status': 'canceled',\n",
       " 'join_date': '2017-11-10',\n",
       " 'cancel_date': '2017-11-16',\n",
       " 'days_to_cancel': '6',\n",
       " 'is_enrolled': 'FALSE',\n",
       " 'is_canceled': 'TRUE'}"
      ]
     },
     "execution_count": 23,
     "metadata": {},
     "output_type": "execute_result"
    }
   ],
   "source": [
    "submission_data[0]"
   ]
  },
  {
   "cell_type": "markdown",
   "id": "605b7f76",
   "metadata": {},
   "source": [
    "Categorical Data - Any value that if you ran mathematical operation on, you'd get nonsensical data"
   ]
  },
  {
   "cell_type": "markdown",
   "id": "855da451",
   "metadata": {},
   "source": [
    "Ordinal Data - Any value that if you ran mathematical operation on it, you'd get sensical data"
   ]
  },
  {
   "cell_type": "code",
   "execution_count": null,
   "id": "9cb035db",
   "metadata": {},
   "outputs": [],
   "source": []
  },
  {
   "cell_type": "markdown",
   "id": "f13f9abd",
   "metadata": {},
   "source": [
    "### Step 2: Clean Data"
   ]
  },
  {
   "cell_type": "code",
   "execution_count": null,
   "id": "76b6b67f",
   "metadata": {},
   "outputs": [],
   "source": []
  },
  {
   "cell_type": "code",
   "execution_count": null,
   "id": "b1fb4fe1",
   "metadata": {},
   "outputs": [],
   "source": []
  },
  {
   "cell_type": "code",
   "execution_count": null,
   "id": "62e53d72",
   "metadata": {},
   "outputs": [],
   "source": []
  },
  {
   "cell_type": "code",
   "execution_count": null,
   "id": "8c0ceed4",
   "metadata": {},
   "outputs": [],
   "source": []
  }
 ],
 "metadata": {
  "kernelspec": {
   "display_name": "Python 3",
   "language": "python",
   "name": "python3"
  },
  "language_info": {
   "codemirror_mode": {
    "name": "ipython",
    "version": 3
   },
   "file_extension": ".py",
   "mimetype": "text/x-python",
   "name": "python",
   "nbconvert_exporter": "python",
   "pygments_lexer": "ipython3",
   "version": "3.8.8"
  }
 },
 "nbformat": 4,
 "nbformat_minor": 5
}
